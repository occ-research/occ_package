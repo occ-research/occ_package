{
 "cells": [
  {
   "cell_type": "markdown",
   "id": "7fcef4c3-aa5a-403f-a40e-5fe82965ccd0",
   "metadata": {},
   "source": [
    "# Examples and How to use the wocecolormap package"
   ]
  },
  {
   "cell_type": "markdown",
   "id": "1f6b09e9-0147-41a4-8d4e-c8c6c6d9fe8b",
   "metadata": {},
   "source": [
    "The [World Ocean Circulation Experiment (WOCE)](https://woceatlas.ucsd.edu) uses specific colormaps for potential temperature, salinity, neutral density, potential density, oxygen, phosphate, nitrate, silicate, alkalinity, total CO<sub>2</sub>, CFC-11, tritium, δ<sup>3</sup>He, Δ<sup>14</sup>C, and depth. Because these colormaps are not generic, and WOCE plots can be used for comparison purposes, Megan Siwak recreated the colormaps. "
   ]
  },
  {
   "cell_type": "markdown",
   "id": "0e34c6c3-071a-4026-b450-c30cea758709",
   "metadata": {},
   "source": [
    "### Tutorial using oxygen data"
   ]
  },
  {
   "cell_type": "markdown",
   "id": "e48639ba-651c-40b0-bdae-a203dca14531",
   "metadata": {},
   "source": [
    "First, importing a few things to allow us to plot the woa18 data."
   ]
  },
  {
   "cell_type": "code",
   "execution_count": 8,
   "id": "5318e521-e8f6-4868-ac0e-38a301c195ab",
   "metadata": {},
   "outputs": [],
   "source": [
    "import xarray as xr\n",
    "import cmocean \n",
    "import matplotlib.pyplot as plt\n",
    "import cftime\n",
    "import cartopy.crs as ccrs\n",
    "import numpy as np\n",
    "import matplotlib as mpl\n",
    "import zarr \n",
    "import gcsfs \n",
    "import momlevel as ml"
   ]
  },
  {
   "cell_type": "markdown",
   "id": "b4da6c6c-57e0-4dcb-a9d3-f2a9d2361155",
   "metadata": {},
   "source": [
    "Next, we import our new colormap!"
   ]
  },
  {
   "cell_type": "code",
   "execution_count": 9,
   "id": "8cfe51f1-f4cc-4bb5-a943-04077ab01dec",
   "metadata": {},
   "outputs": [],
   "source": [
    "xr.set_options(display_style='html')   #configurations(ignore)\n",
    "%matplotlib inline                           \n",
    "%config InlineBackend.figure_format='retina' \n",
    "plt.rcParams['figure.figsize'] = 12,6"
   ]
  },
  {
   "cell_type": "code",
   "execution_count": 10,
   "id": "70c37c45-c145-4dc3-9dce-7efdaa1ba5bd",
   "metadata": {},
   "outputs": [],
   "source": [
    "import wocemaps "
   ]
  },
  {
   "cell_type": "code",
   "execution_count": 11,
   "id": "60ed3749-22db-4021-bd37-3c5a4b4b41e6",
   "metadata": {},
   "outputs": [
    {
     "data": {
      "text/plain": [
       "['__builtins__',\n",
       " '__cached__',\n",
       " '__doc__',\n",
       " '__file__',\n",
       " '__loader__',\n",
       " '__name__',\n",
       " '__package__',\n",
       " '__spec__',\n",
       " 'alkalinity',\n",
       " 'cdict_alkalinity',\n",
       " 'cdict_cfc11',\n",
       " 'cdict_d14c',\n",
       " 'cdict_d3he',\n",
       " 'cdict_depth',\n",
       " 'cdict_neutraldensity',\n",
       " 'cdict_nitrate',\n",
       " 'cdict_oxygen',\n",
       " 'cdict_phosphate',\n",
       " 'cdict_potentialdensity',\n",
       " 'cdict_potentialtemperature',\n",
       " 'cdict_salinity',\n",
       " 'cdict_silicate',\n",
       " 'cdict_totalco2',\n",
       " 'cdict_tritium',\n",
       " 'cfc11',\n",
       " 'd14c',\n",
       " 'd3he',\n",
       " 'depth',\n",
       " 'mpl',\n",
       " 'ndensity',\n",
       " 'nitrate',\n",
       " 'np',\n",
       " 'oxygen',\n",
       " 'pdensity',\n",
       " 'phosphate',\n",
       " 'plt',\n",
       " 'potentialtemp',\n",
       " 'salinity',\n",
       " 'silicate',\n",
       " 'totalco2',\n",
       " 'tritium']"
      ]
     },
     "execution_count": 11,
     "metadata": {},
     "output_type": "execute_result"
    }
   ],
   "source": [
    "dir(wocemaps) #this allows us to see all of the properties and methods in the package"
   ]
  },
  {
   "cell_type": "code",
   "execution_count": 12,
   "id": "566b90a2-c851-49bb-91cf-a21faec8cecd",
   "metadata": {},
   "outputs": [],
   "source": [
    "#opening up our woa18 datasets\n",
    "o2 = xr.open_zarr('~/occ_packages/wocecolormaps/src/example_data/woa18/woa_oxygen_dissolved_all',decode_times=False)"
   ]
  },
  {
   "cell_type": "code",
   "execution_count": 13,
   "id": "fbded8d9-73ba-4ea0-97b8-fab74e4b0ce4",
   "metadata": {},
   "outputs": [
    {
     "data": {
      "text/html": [
       "<div><svg style=\"position: absolute; width: 0; height: 0; overflow: hidden\">\n",
       "<defs>\n",
       "<symbol id=\"icon-database\" viewBox=\"0 0 32 32\">\n",
       "<path d=\"M16 0c-8.837 0-16 2.239-16 5v4c0 2.761 7.163 5 16 5s16-2.239 16-5v-4c0-2.761-7.163-5-16-5z\"></path>\n",
       "<path d=\"M16 17c-8.837 0-16-2.239-16-5v6c0 2.761 7.163 5 16 5s16-2.239 16-5v-6c0 2.761-7.163 5-16 5z\"></path>\n",
       "<path d=\"M16 26c-8.837 0-16-2.239-16-5v6c0 2.761 7.163 5 16 5s16-2.239 16-5v-6c0 2.761-7.163 5-16 5z\"></path>\n",
       "</symbol>\n",
       "<symbol id=\"icon-file-text2\" viewBox=\"0 0 32 32\">\n",
       "<path d=\"M28.681 7.159c-0.694-0.947-1.662-2.053-2.724-3.116s-2.169-2.030-3.116-2.724c-1.612-1.182-2.393-1.319-2.841-1.319h-15.5c-1.378 0-2.5 1.121-2.5 2.5v27c0 1.378 1.122 2.5 2.5 2.5h23c1.378 0 2.5-1.122 2.5-2.5v-19.5c0-0.448-0.137-1.23-1.319-2.841zM24.543 5.457c0.959 0.959 1.712 1.825 2.268 2.543h-4.811v-4.811c0.718 0.556 1.584 1.309 2.543 2.268zM28 29.5c0 0.271-0.229 0.5-0.5 0.5h-23c-0.271 0-0.5-0.229-0.5-0.5v-27c0-0.271 0.229-0.5 0.5-0.5 0 0 15.499-0 15.5 0v7c0 0.552 0.448 1 1 1h7v19.5z\"></path>\n",
       "<path d=\"M23 26h-14c-0.552 0-1-0.448-1-1s0.448-1 1-1h14c0.552 0 1 0.448 1 1s-0.448 1-1 1z\"></path>\n",
       "<path d=\"M23 22h-14c-0.552 0-1-0.448-1-1s0.448-1 1-1h14c0.552 0 1 0.448 1 1s-0.448 1-1 1z\"></path>\n",
       "<path d=\"M23 18h-14c-0.552 0-1-0.448-1-1s0.448-1 1-1h14c0.552 0 1 0.448 1 1s-0.448 1-1 1z\"></path>\n",
       "</symbol>\n",
       "</defs>\n",
       "</svg>\n",
       "<style>/* CSS stylesheet for displaying xarray objects in jupyterlab.\n",
       " *\n",
       " */\n",
       "\n",
       ":root {\n",
       "  --xr-font-color0: var(--jp-content-font-color0, rgba(0, 0, 0, 1));\n",
       "  --xr-font-color2: var(--jp-content-font-color2, rgba(0, 0, 0, 0.54));\n",
       "  --xr-font-color3: var(--jp-content-font-color3, rgba(0, 0, 0, 0.38));\n",
       "  --xr-border-color: var(--jp-border-color2, #e0e0e0);\n",
       "  --xr-disabled-color: var(--jp-layout-color3, #bdbdbd);\n",
       "  --xr-background-color: var(--jp-layout-color0, white);\n",
       "  --xr-background-color-row-even: var(--jp-layout-color1, white);\n",
       "  --xr-background-color-row-odd: var(--jp-layout-color2, #eeeeee);\n",
       "}\n",
       "\n",
       "html[theme=dark],\n",
       "body[data-theme=dark],\n",
       "body.vscode-dark {\n",
       "  --xr-font-color0: rgba(255, 255, 255, 1);\n",
       "  --xr-font-color2: rgba(255, 255, 255, 0.54);\n",
       "  --xr-font-color3: rgba(255, 255, 255, 0.38);\n",
       "  --xr-border-color: #1F1F1F;\n",
       "  --xr-disabled-color: #515151;\n",
       "  --xr-background-color: #111111;\n",
       "  --xr-background-color-row-even: #111111;\n",
       "  --xr-background-color-row-odd: #313131;\n",
       "}\n",
       "\n",
       ".xr-wrap {\n",
       "  display: block !important;\n",
       "  min-width: 300px;\n",
       "  max-width: 700px;\n",
       "}\n",
       "\n",
       ".xr-text-repr-fallback {\n",
       "  /* fallback to plain text repr when CSS is not injected (untrusted notebook) */\n",
       "  display: none;\n",
       "}\n",
       "\n",
       ".xr-header {\n",
       "  padding-top: 6px;\n",
       "  padding-bottom: 6px;\n",
       "  margin-bottom: 4px;\n",
       "  border-bottom: solid 1px var(--xr-border-color);\n",
       "}\n",
       "\n",
       ".xr-header > div,\n",
       ".xr-header > ul {\n",
       "  display: inline;\n",
       "  margin-top: 0;\n",
       "  margin-bottom: 0;\n",
       "}\n",
       "\n",
       ".xr-obj-type,\n",
       ".xr-array-name {\n",
       "  margin-left: 2px;\n",
       "  margin-right: 10px;\n",
       "}\n",
       "\n",
       ".xr-obj-type {\n",
       "  color: var(--xr-font-color2);\n",
       "}\n",
       "\n",
       ".xr-sections {\n",
       "  padding-left: 0 !important;\n",
       "  display: grid;\n",
       "  grid-template-columns: 150px auto auto 1fr 20px 20px;\n",
       "}\n",
       "\n",
       ".xr-section-item {\n",
       "  display: contents;\n",
       "}\n",
       "\n",
       ".xr-section-item input {\n",
       "  display: none;\n",
       "}\n",
       "\n",
       ".xr-section-item input + label {\n",
       "  color: var(--xr-disabled-color);\n",
       "}\n",
       "\n",
       ".xr-section-item input:enabled + label {\n",
       "  cursor: pointer;\n",
       "  color: var(--xr-font-color2);\n",
       "}\n",
       "\n",
       ".xr-section-item input:enabled + label:hover {\n",
       "  color: var(--xr-font-color0);\n",
       "}\n",
       "\n",
       ".xr-section-summary {\n",
       "  grid-column: 1;\n",
       "  color: var(--xr-font-color2);\n",
       "  font-weight: 500;\n",
       "}\n",
       "\n",
       ".xr-section-summary > span {\n",
       "  display: inline-block;\n",
       "  padding-left: 0.5em;\n",
       "}\n",
       "\n",
       ".xr-section-summary-in:disabled + label {\n",
       "  color: var(--xr-font-color2);\n",
       "}\n",
       "\n",
       ".xr-section-summary-in + label:before {\n",
       "  display: inline-block;\n",
       "  content: '►';\n",
       "  font-size: 11px;\n",
       "  width: 15px;\n",
       "  text-align: center;\n",
       "}\n",
       "\n",
       ".xr-section-summary-in:disabled + label:before {\n",
       "  color: var(--xr-disabled-color);\n",
       "}\n",
       "\n",
       ".xr-section-summary-in:checked + label:before {\n",
       "  content: '▼';\n",
       "}\n",
       "\n",
       ".xr-section-summary-in:checked + label > span {\n",
       "  display: none;\n",
       "}\n",
       "\n",
       ".xr-section-summary,\n",
       ".xr-section-inline-details {\n",
       "  padding-top: 4px;\n",
       "  padding-bottom: 4px;\n",
       "}\n",
       "\n",
       ".xr-section-inline-details {\n",
       "  grid-column: 2 / -1;\n",
       "}\n",
       "\n",
       ".xr-section-details {\n",
       "  display: none;\n",
       "  grid-column: 1 / -1;\n",
       "  margin-bottom: 5px;\n",
       "}\n",
       "\n",
       ".xr-section-summary-in:checked ~ .xr-section-details {\n",
       "  display: contents;\n",
       "}\n",
       "\n",
       ".xr-array-wrap {\n",
       "  grid-column: 1 / -1;\n",
       "  display: grid;\n",
       "  grid-template-columns: 20px auto;\n",
       "}\n",
       "\n",
       ".xr-array-wrap > label {\n",
       "  grid-column: 1;\n",
       "  vertical-align: top;\n",
       "}\n",
       "\n",
       ".xr-preview {\n",
       "  color: var(--xr-font-color3);\n",
       "}\n",
       "\n",
       ".xr-array-preview,\n",
       ".xr-array-data {\n",
       "  padding: 0 5px !important;\n",
       "  grid-column: 2;\n",
       "}\n",
       "\n",
       ".xr-array-data,\n",
       ".xr-array-in:checked ~ .xr-array-preview {\n",
       "  display: none;\n",
       "}\n",
       "\n",
       ".xr-array-in:checked ~ .xr-array-data,\n",
       ".xr-array-preview {\n",
       "  display: inline-block;\n",
       "}\n",
       "\n",
       ".xr-dim-list {\n",
       "  display: inline-block !important;\n",
       "  list-style: none;\n",
       "  padding: 0 !important;\n",
       "  margin: 0;\n",
       "}\n",
       "\n",
       ".xr-dim-list li {\n",
       "  display: inline-block;\n",
       "  padding: 0;\n",
       "  margin: 0;\n",
       "}\n",
       "\n",
       ".xr-dim-list:before {\n",
       "  content: '(';\n",
       "}\n",
       "\n",
       ".xr-dim-list:after {\n",
       "  content: ')';\n",
       "}\n",
       "\n",
       ".xr-dim-list li:not(:last-child):after {\n",
       "  content: ',';\n",
       "  padding-right: 5px;\n",
       "}\n",
       "\n",
       ".xr-has-index {\n",
       "  font-weight: bold;\n",
       "}\n",
       "\n",
       ".xr-var-list,\n",
       ".xr-var-item {\n",
       "  display: contents;\n",
       "}\n",
       "\n",
       ".xr-var-item > div,\n",
       ".xr-var-item label,\n",
       ".xr-var-item > .xr-var-name span {\n",
       "  background-color: var(--xr-background-color-row-even);\n",
       "  margin-bottom: 0;\n",
       "}\n",
       "\n",
       ".xr-var-item > .xr-var-name:hover span {\n",
       "  padding-right: 5px;\n",
       "}\n",
       "\n",
       ".xr-var-list > li:nth-child(odd) > div,\n",
       ".xr-var-list > li:nth-child(odd) > label,\n",
       ".xr-var-list > li:nth-child(odd) > .xr-var-name span {\n",
       "  background-color: var(--xr-background-color-row-odd);\n",
       "}\n",
       "\n",
       ".xr-var-name {\n",
       "  grid-column: 1;\n",
       "}\n",
       "\n",
       ".xr-var-dims {\n",
       "  grid-column: 2;\n",
       "}\n",
       "\n",
       ".xr-var-dtype {\n",
       "  grid-column: 3;\n",
       "  text-align: right;\n",
       "  color: var(--xr-font-color2);\n",
       "}\n",
       "\n",
       ".xr-var-preview {\n",
       "  grid-column: 4;\n",
       "}\n",
       "\n",
       ".xr-index-preview {\n",
       "  grid-column: 2 / 5;\n",
       "  color: var(--xr-font-color2);\n",
       "}\n",
       "\n",
       ".xr-var-name,\n",
       ".xr-var-dims,\n",
       ".xr-var-dtype,\n",
       ".xr-preview,\n",
       ".xr-attrs dt {\n",
       "  white-space: nowrap;\n",
       "  overflow: hidden;\n",
       "  text-overflow: ellipsis;\n",
       "  padding-right: 10px;\n",
       "}\n",
       "\n",
       ".xr-var-name:hover,\n",
       ".xr-var-dims:hover,\n",
       ".xr-var-dtype:hover,\n",
       ".xr-attrs dt:hover {\n",
       "  overflow: visible;\n",
       "  width: auto;\n",
       "  z-index: 1;\n",
       "}\n",
       "\n",
       ".xr-var-attrs,\n",
       ".xr-var-data,\n",
       ".xr-index-data {\n",
       "  display: none;\n",
       "  background-color: var(--xr-background-color) !important;\n",
       "  padding-bottom: 5px !important;\n",
       "}\n",
       "\n",
       ".xr-var-attrs-in:checked ~ .xr-var-attrs,\n",
       ".xr-var-data-in:checked ~ .xr-var-data,\n",
       ".xr-index-data-in:checked ~ .xr-index-data {\n",
       "  display: block;\n",
       "}\n",
       "\n",
       ".xr-var-data > table {\n",
       "  float: right;\n",
       "}\n",
       "\n",
       ".xr-var-name span,\n",
       ".xr-var-data,\n",
       ".xr-index-name div,\n",
       ".xr-index-data,\n",
       ".xr-attrs {\n",
       "  padding-left: 25px !important;\n",
       "}\n",
       "\n",
       ".xr-attrs,\n",
       ".xr-var-attrs,\n",
       ".xr-var-data,\n",
       ".xr-index-data {\n",
       "  grid-column: 1 / -1;\n",
       "}\n",
       "\n",
       "dl.xr-attrs {\n",
       "  padding: 0;\n",
       "  margin: 0;\n",
       "  display: grid;\n",
       "  grid-template-columns: 125px auto;\n",
       "}\n",
       "\n",
       ".xr-attrs dt,\n",
       ".xr-attrs dd {\n",
       "  padding: 0;\n",
       "  margin: 0;\n",
       "  float: left;\n",
       "  padding-right: 10px;\n",
       "  width: auto;\n",
       "}\n",
       "\n",
       ".xr-attrs dt {\n",
       "  font-weight: normal;\n",
       "  grid-column: 1;\n",
       "}\n",
       "\n",
       ".xr-attrs dt:hover span {\n",
       "  display: inline-block;\n",
       "  background: var(--xr-background-color);\n",
       "  padding-right: 10px;\n",
       "}\n",
       "\n",
       ".xr-attrs dd {\n",
       "  grid-column: 2;\n",
       "  white-space: pre-wrap;\n",
       "  word-break: break-all;\n",
       "}\n",
       "\n",
       ".xr-icon-database,\n",
       ".xr-icon-file-text2,\n",
       ".xr-no-icon {\n",
       "  display: inline-block;\n",
       "  vertical-align: middle;\n",
       "  width: 1em;\n",
       "  height: 1.5em !important;\n",
       "  stroke-width: 0;\n",
       "  stroke: currentColor;\n",
       "  fill: currentColor;\n",
       "}\n",
       "</style><pre class='xr-text-repr-fallback'>&lt;xarray.Dataset&gt;\n",
       "Dimensions:    (lat: 180, lon: 360)\n",
       "Coordinates:\n",
       "    depth      float32 0.0\n",
       "  * lat        (lat) float32 -89.5 -88.5 -87.5 -86.5 ... 86.5 87.5 88.5 89.5\n",
       "  * lon        (lon) float32 -179.5 -178.5 -177.5 -176.5 ... 177.5 178.5 179.5\n",
       "    time       float32 ...\n",
       "Data variables:\n",
       "    dissolved  (lat, lon) float32 dask.array&lt;chunksize=(45, 180), meta=np.ndarray&gt;</pre><div class='xr-wrap' style='display:none'><div class='xr-header'><div class='xr-obj-type'>xarray.Dataset</div></div><ul class='xr-sections'><li class='xr-section-item'><input id='section-12ed88d3-0ec9-4dbb-ad40-b985026a73ee' class='xr-section-summary-in' type='checkbox' disabled ><label for='section-12ed88d3-0ec9-4dbb-ad40-b985026a73ee' class='xr-section-summary'  title='Expand/collapse section'>Dimensions:</label><div class='xr-section-inline-details'><ul class='xr-dim-list'><li><span class='xr-has-index'>lat</span>: 180</li><li><span class='xr-has-index'>lon</span>: 360</li></ul></div><div class='xr-section-details'></div></li><li class='xr-section-item'><input id='section-f728abe3-f275-4187-8acb-69edb63bd9f9' class='xr-section-summary-in' type='checkbox'  checked><label for='section-f728abe3-f275-4187-8acb-69edb63bd9f9' class='xr-section-summary' >Coordinates: <span>(4)</span></label><div class='xr-section-inline-details'></div><div class='xr-section-details'><ul class='xr-var-list'><li class='xr-var-item'><div class='xr-var-name'><span>depth</span></div><div class='xr-var-dims'>()</div><div class='xr-var-dtype'>float32</div><div class='xr-var-preview xr-preview'>0.0</div><input id='attrs-f908b8eb-649c-421d-b5a0-fae7d1e66057' class='xr-var-attrs-in' type='checkbox' ><label for='attrs-f908b8eb-649c-421d-b5a0-fae7d1e66057' title='Show/Hide attributes'><svg class='icon xr-icon-file-text2'><use xlink:href='#icon-file-text2'></use></svg></label><input id='data-91e5edab-0f38-49fd-8cc5-175c7cacee30' class='xr-var-data-in' type='checkbox'><label for='data-91e5edab-0f38-49fd-8cc5-175c7cacee30' title='Show/Hide data repr'><svg class='icon xr-icon-database'><use xlink:href='#icon-database'></use></svg></label><div class='xr-var-attrs'><dl class='xr-attrs'><dt><span>axis :</span></dt><dd>Z</dd><dt><span>bounds :</span></dt><dd>depth_bnds</dd><dt><span>positive :</span></dt><dd>down</dd><dt><span>standard_name :</span></dt><dd>depth</dd><dt><span>units :</span></dt><dd>meters</dd></dl></div><div class='xr-var-data'><pre>array(0., dtype=float32)</pre></div></li><li class='xr-var-item'><div class='xr-var-name'><span class='xr-has-index'>lat</span></div><div class='xr-var-dims'>(lat)</div><div class='xr-var-dtype'>float32</div><div class='xr-var-preview xr-preview'>-89.5 -88.5 -87.5 ... 88.5 89.5</div><input id='attrs-a0ba2f28-372a-4b3f-ad4b-e2d282554cad' class='xr-var-attrs-in' type='checkbox' ><label for='attrs-a0ba2f28-372a-4b3f-ad4b-e2d282554cad' title='Show/Hide attributes'><svg class='icon xr-icon-file-text2'><use xlink:href='#icon-file-text2'></use></svg></label><input id='data-c9d5dd87-d4f0-4c53-8143-baca25d216af' class='xr-var-data-in' type='checkbox'><label for='data-c9d5dd87-d4f0-4c53-8143-baca25d216af' title='Show/Hide data repr'><svg class='icon xr-icon-database'><use xlink:href='#icon-database'></use></svg></label><div class='xr-var-attrs'><dl class='xr-attrs'><dt><span>axis :</span></dt><dd>Y</dd><dt><span>bounds :</span></dt><dd>lat_bnds</dd><dt><span>long_name :</span></dt><dd>latitude</dd><dt><span>standard_name :</span></dt><dd>latitude</dd><dt><span>units :</span></dt><dd>degrees_north</dd></dl></div><div class='xr-var-data'><pre>array([-89.5, -88.5, -87.5, -86.5, -85.5, -84.5, -83.5, -82.5, -81.5, -80.5,\n",
       "       -79.5, -78.5, -77.5, -76.5, -75.5, -74.5, -73.5, -72.5, -71.5, -70.5,\n",
       "       -69.5, -68.5, -67.5, -66.5, -65.5, -64.5, -63.5, -62.5, -61.5, -60.5,\n",
       "       -59.5, -58.5, -57.5, -56.5, -55.5, -54.5, -53.5, -52.5, -51.5, -50.5,\n",
       "       -49.5, -48.5, -47.5, -46.5, -45.5, -44.5, -43.5, -42.5, -41.5, -40.5,\n",
       "       -39.5, -38.5, -37.5, -36.5, -35.5, -34.5, -33.5, -32.5, -31.5, -30.5,\n",
       "       -29.5, -28.5, -27.5, -26.5, -25.5, -24.5, -23.5, -22.5, -21.5, -20.5,\n",
       "       -19.5, -18.5, -17.5, -16.5, -15.5, -14.5, -13.5, -12.5, -11.5, -10.5,\n",
       "        -9.5,  -8.5,  -7.5,  -6.5,  -5.5,  -4.5,  -3.5,  -2.5,  -1.5,  -0.5,\n",
       "         0.5,   1.5,   2.5,   3.5,   4.5,   5.5,   6.5,   7.5,   8.5,   9.5,\n",
       "        10.5,  11.5,  12.5,  13.5,  14.5,  15.5,  16.5,  17.5,  18.5,  19.5,\n",
       "        20.5,  21.5,  22.5,  23.5,  24.5,  25.5,  26.5,  27.5,  28.5,  29.5,\n",
       "        30.5,  31.5,  32.5,  33.5,  34.5,  35.5,  36.5,  37.5,  38.5,  39.5,\n",
       "        40.5,  41.5,  42.5,  43.5,  44.5,  45.5,  46.5,  47.5,  48.5,  49.5,\n",
       "        50.5,  51.5,  52.5,  53.5,  54.5,  55.5,  56.5,  57.5,  58.5,  59.5,\n",
       "        60.5,  61.5,  62.5,  63.5,  64.5,  65.5,  66.5,  67.5,  68.5,  69.5,\n",
       "        70.5,  71.5,  72.5,  73.5,  74.5,  75.5,  76.5,  77.5,  78.5,  79.5,\n",
       "        80.5,  81.5,  82.5,  83.5,  84.5,  85.5,  86.5,  87.5,  88.5,  89.5],\n",
       "      dtype=float32)</pre></div></li><li class='xr-var-item'><div class='xr-var-name'><span class='xr-has-index'>lon</span></div><div class='xr-var-dims'>(lon)</div><div class='xr-var-dtype'>float32</div><div class='xr-var-preview xr-preview'>-179.5 -178.5 ... 178.5 179.5</div><input id='attrs-6209174d-e2bc-4dd0-8dbd-c002f4de95b2' class='xr-var-attrs-in' type='checkbox' ><label for='attrs-6209174d-e2bc-4dd0-8dbd-c002f4de95b2' title='Show/Hide attributes'><svg class='icon xr-icon-file-text2'><use xlink:href='#icon-file-text2'></use></svg></label><input id='data-512ebe15-673e-4106-8ddb-6bdb40c323c7' class='xr-var-data-in' type='checkbox'><label for='data-512ebe15-673e-4106-8ddb-6bdb40c323c7' title='Show/Hide data repr'><svg class='icon xr-icon-database'><use xlink:href='#icon-database'></use></svg></label><div class='xr-var-attrs'><dl class='xr-attrs'><dt><span>axis :</span></dt><dd>X</dd><dt><span>bounds :</span></dt><dd>lon_bnds</dd><dt><span>long_name :</span></dt><dd>longitude</dd><dt><span>standard_name :</span></dt><dd>longitude</dd><dt><span>units :</span></dt><dd>degrees_east</dd></dl></div><div class='xr-var-data'><pre>array([-179.5, -178.5, -177.5, ...,  177.5,  178.5,  179.5], dtype=float32)</pre></div></li><li class='xr-var-item'><div class='xr-var-name'><span>time</span></div><div class='xr-var-dims'>()</div><div class='xr-var-dtype'>float32</div><div class='xr-var-preview xr-preview'>...</div><input id='attrs-7978890d-37f4-4c63-94c5-b39bbf5cd270' class='xr-var-attrs-in' type='checkbox' ><label for='attrs-7978890d-37f4-4c63-94c5-b39bbf5cd270' title='Show/Hide attributes'><svg class='icon xr-icon-file-text2'><use xlink:href='#icon-file-text2'></use></svg></label><input id='data-2498e9dc-6d10-4d98-a250-423a3cd61871' class='xr-var-data-in' type='checkbox'><label for='data-2498e9dc-6d10-4d98-a250-423a3cd61871' title='Show/Hide data repr'><svg class='icon xr-icon-database'><use xlink:href='#icon-database'></use></svg></label><div class='xr-var-attrs'><dl class='xr-attrs'><dt><span>axis :</span></dt><dd>T</dd><dt><span>climatology :</span></dt><dd>climatology_bounds</dd><dt><span>long_name :</span></dt><dd>time</dd><dt><span>standard_name :</span></dt><dd>time</dd><dt><span>units :</span></dt><dd>months since 1900-01-01 00:00:00</dd></dl></div><div class='xr-var-data'><pre>[1 values with dtype=float32]</pre></div></li></ul></div></li><li class='xr-section-item'><input id='section-28bf1264-8945-4e67-9fb8-0d38e01d7488' class='xr-section-summary-in' type='checkbox'  checked><label for='section-28bf1264-8945-4e67-9fb8-0d38e01d7488' class='xr-section-summary' >Data variables: <span>(1)</span></label><div class='xr-section-inline-details'></div><div class='xr-section-details'><ul class='xr-var-list'><li class='xr-var-item'><div class='xr-var-name'><span>dissolved</span></div><div class='xr-var-dims'>(lat, lon)</div><div class='xr-var-dtype'>float32</div><div class='xr-var-preview xr-preview'>dask.array&lt;chunksize=(45, 180), meta=np.ndarray&gt;</div><input id='attrs-37a21738-5102-4386-90d5-439809e7b48b' class='xr-var-attrs-in' type='checkbox' ><label for='attrs-37a21738-5102-4386-90d5-439809e7b48b' title='Show/Hide attributes'><svg class='icon xr-icon-file-text2'><use xlink:href='#icon-file-text2'></use></svg></label><input id='data-6160200a-366f-4aec-ac20-7d66e8ca40aa' class='xr-var-data-in' type='checkbox'><label for='data-6160200a-366f-4aec-ac20-7d66e8ca40aa' title='Show/Hide data repr'><svg class='icon xr-icon-database'><use xlink:href='#icon-database'></use></svg></label><div class='xr-var-attrs'><dl class='xr-attrs'><dt><span>cell_methods :</span></dt><dd>area: mean depth: mean time: mean within years time: mean over years</dd><dt><span>grid_mapping :</span></dt><dd>crs</dd><dt><span>long_name :</span></dt><dd>Objectively analyzed mean fields for mole_concentration_of_dissolved_molecular_oxygen_in_sea_water at standard depth levels.</dd><dt><span>standard_name :</span></dt><dd>mole_concentration_of_dissolved_molecular_oxygen_in_sea_water</dd><dt><span>units :</span></dt><dd>micromoles_per_kilogram</dd></dl></div><div class='xr-var-data'><table>\n",
       "    <tr>\n",
       "        <td>\n",
       "            <table style=\"border-collapse: collapse;\">\n",
       "                <thead>\n",
       "                    <tr>\n",
       "                        <td> </td>\n",
       "                        <th> Array </th>\n",
       "                        <th> Chunk </th>\n",
       "                    </tr>\n",
       "                </thead>\n",
       "                <tbody>\n",
       "                    \n",
       "                    <tr>\n",
       "                        <th> Bytes </th>\n",
       "                        <td> 253.12 kiB </td>\n",
       "                        <td> 31.64 kiB </td>\n",
       "                    </tr>\n",
       "                    \n",
       "                    <tr>\n",
       "                        <th> Shape </th>\n",
       "                        <td> (180, 360) </td>\n",
       "                        <td> (45, 180) </td>\n",
       "                    </tr>\n",
       "                    <tr>\n",
       "                        <th> Dask graph </th>\n",
       "                        <td colspan=\"2\"> 8 chunks in 3 graph layers </td>\n",
       "                    </tr>\n",
       "                    <tr>\n",
       "                        <th> Data type </th>\n",
       "                        <td colspan=\"2\"> float32 numpy.ndarray </td>\n",
       "                    </tr>\n",
       "                </tbody>\n",
       "            </table>\n",
       "        </td>\n",
       "        <td>\n",
       "        <svg width=\"170\" height=\"110\" style=\"stroke:rgb(0,0,0);stroke-width:1\" >\n",
       "\n",
       "  <!-- Horizontal lines -->\n",
       "  <line x1=\"0\" y1=\"0\" x2=\"120\" y2=\"0\" style=\"stroke-width:2\" />\n",
       "  <line x1=\"0\" y1=\"15\" x2=\"120\" y2=\"15\" />\n",
       "  <line x1=\"0\" y1=\"30\" x2=\"120\" y2=\"30\" />\n",
       "  <line x1=\"0\" y1=\"45\" x2=\"120\" y2=\"45\" />\n",
       "  <line x1=\"0\" y1=\"60\" x2=\"120\" y2=\"60\" style=\"stroke-width:2\" />\n",
       "\n",
       "  <!-- Vertical lines -->\n",
       "  <line x1=\"0\" y1=\"0\" x2=\"0\" y2=\"60\" style=\"stroke-width:2\" />\n",
       "  <line x1=\"60\" y1=\"0\" x2=\"60\" y2=\"60\" />\n",
       "  <line x1=\"120\" y1=\"0\" x2=\"120\" y2=\"60\" style=\"stroke-width:2\" />\n",
       "\n",
       "  <!-- Colored Rectangle -->\n",
       "  <polygon points=\"0.0,0.0 120.0,0.0 120.0,60.0 0.0,60.0\" style=\"fill:#ECB172A0;stroke-width:0\"/>\n",
       "\n",
       "  <!-- Text -->\n",
       "  <text x=\"60.000000\" y=\"80.000000\" font-size=\"1.0rem\" font-weight=\"100\" text-anchor=\"middle\" >360</text>\n",
       "  <text x=\"140.000000\" y=\"30.000000\" font-size=\"1.0rem\" font-weight=\"100\" text-anchor=\"middle\" transform=\"rotate(-90,140.000000,30.000000)\">180</text>\n",
       "</svg>\n",
       "        </td>\n",
       "    </tr>\n",
       "</table></div></li></ul></div></li><li class='xr-section-item'><input id='section-8070f2a9-2d87-4fc1-a916-038a559ef4c0' class='xr-section-summary-in' type='checkbox'  ><label for='section-8070f2a9-2d87-4fc1-a916-038a559ef4c0' class='xr-section-summary' >Indexes: <span>(2)</span></label><div class='xr-section-inline-details'></div><div class='xr-section-details'><ul class='xr-var-list'><li class='xr-var-item'><div class='xr-index-name'><div>lat</div></div><div class='xr-index-preview'>PandasIndex</div><div></div><input id='index-dcb2fa60-0252-45e2-8006-cb9065cf6c58' class='xr-index-data-in' type='checkbox'/><label for='index-dcb2fa60-0252-45e2-8006-cb9065cf6c58' title='Show/Hide index repr'><svg class='icon xr-icon-database'><use xlink:href='#icon-database'></use></svg></label><div class='xr-index-data'><pre>PandasIndex(Index([-89.5, -88.5, -87.5, -86.5, -85.5, -84.5, -83.5, -82.5, -81.5, -80.5,\n",
       "       ...\n",
       "        80.5,  81.5,  82.5,  83.5,  84.5,  85.5,  86.5,  87.5,  88.5,  89.5],\n",
       "      dtype=&#x27;float32&#x27;, name=&#x27;lat&#x27;, length=180))</pre></div></li><li class='xr-var-item'><div class='xr-index-name'><div>lon</div></div><div class='xr-index-preview'>PandasIndex</div><div></div><input id='index-223fac4f-c9aa-413d-ba3a-c768af296542' class='xr-index-data-in' type='checkbox'/><label for='index-223fac4f-c9aa-413d-ba3a-c768af296542' title='Show/Hide index repr'><svg class='icon xr-icon-database'><use xlink:href='#icon-database'></use></svg></label><div class='xr-index-data'><pre>PandasIndex(Index([-179.5, -178.5, -177.5, -176.5, -175.5, -174.5, -173.5, -172.5, -171.5,\n",
       "       -170.5,\n",
       "       ...\n",
       "        170.5,  171.5,  172.5,  173.5,  174.5,  175.5,  176.5,  177.5,  178.5,\n",
       "        179.5],\n",
       "      dtype=&#x27;float32&#x27;, name=&#x27;lon&#x27;, length=360))</pre></div></li></ul></div></li><li class='xr-section-item'><input id='section-301c6467-bac9-430c-9b59-b9e87577c2e9' class='xr-section-summary-in' type='checkbox' disabled ><label for='section-301c6467-bac9-430c-9b59-b9e87577c2e9' class='xr-section-summary'  title='Expand/collapse section'>Attributes: <span>(0)</span></label><div class='xr-section-inline-details'></div><div class='xr-section-details'><dl class='xr-attrs'></dl></div></li></ul></div></div>"
      ],
      "text/plain": [
       "<xarray.Dataset>\n",
       "Dimensions:    (lat: 180, lon: 360)\n",
       "Coordinates:\n",
       "    depth      float32 0.0\n",
       "  * lat        (lat) float32 -89.5 -88.5 -87.5 -86.5 ... 86.5 87.5 88.5 89.5\n",
       "  * lon        (lon) float32 -179.5 -178.5 -177.5 -176.5 ... 177.5 178.5 179.5\n",
       "    time       float32 ...\n",
       "Data variables:\n",
       "    dissolved  (lat, lon) float32 dask.array<chunksize=(45, 180), meta=np.ndarray>"
      ]
     },
     "execution_count": 13,
     "metadata": {},
     "output_type": "execute_result"
    }
   ],
   "source": [
    "#selecting only the surface measurments\n",
    "surface_o2=o2.sel(depth=0)\n",
    "surface_o2"
   ]
  },
  {
   "cell_type": "code",
   "execution_count": 15,
   "id": "0c47c715-6012-4400-8a48-acc2f68b0e46",
   "metadata": {},
   "outputs": [
    {
     "data": {
      "text/plain": [
       "<cartopy.mpl.geocollection.GeoQuadMesh at 0x7fa9d2356580>"
      ]
     },
     "execution_count": 15,
     "metadata": {},
     "output_type": "execute_result"
    },
    {
     "data": {
      "image/png": "[encoded data removed]",
      "text/plain": [
       "<Figure size 500x500 with 1 Axes>"
      ]
     },
     "metadata": {
      "image/png": {
       "height": 237,
       "width": 458
      }
     },
     "output_type": "display_data"
    }
   ],
   "source": [
    "#plotting using one of our new colormaps!\n",
    "subplot_kws = dict(projection=ccrs.Robinson(central_longitude=-160),\n",
    "                   facecolor = 'grey')\n",
    "fig, ax = plt.subplots(ncols=1, nrows=1,figsize=(5,5),subplot_kw = subplot_kws)\n",
    "\n",
    "surface_o2.dissolved.plot(ax=ax,\n",
    "                                      vmin=0,\n",
    "                                      vmax=500,\n",
    "                                      levels=80,\n",
    "                                      transform=ccrs.PlateCarree(),\n",
    "                                      cmap=wocemaps.oxygen,\n",
    "                                      add_colorbar=False)"
   ]
  },
  {
   "cell_type": "markdown",
   "id": "8cba2a49-5cde-41e5-b6af-fc42f188b328",
   "metadata": {},
   "source": [
    "If you noticed, to use the colormap we desire, we have to call it through cmap. The format is: \n",
    "cmap=wocecolormap.selectedcolor  "
   ]
  },
  {
   "cell_type": "markdown",
   "id": "d75e3d0f-ccbb-4ffe-97f3-a494fb4d15c6",
   "metadata": {},
   "source": [
    "### All of the Available Color Bars (Alphabetically)\n",
    "Note that all of the cdict files are the color numbers used to create the color bars, and the packages used to create them are also included in the sect list."
   ]
  },
  {
   "cell_type": "code",
   "execution_count": 16,
   "id": "1e5f5db6-82bd-40df-b41f-44bd2179c8f9",
   "metadata": {},
   "outputs": [
    {
     "data": {
      "image/png": "[encoded data removed]",
      "text/html": [
       "<div style=\"vertical-align: middle;\"><strong>Alkalinity</strong> </div><div class=\"cmap\"><img alt=\"Alkalinity colormap\" title=\"Alkalinity\" style=\"border: 1px solid #555;\" src=\"data:image/png;base64,iVBORw0KGgoAAAANSUhEUgAAAgAAAABACAYAAABsv8+/AAAAGXRFWHRUaXRsZQBBbGthbGluaXR5IGNvbG9ybWFwQc3EGgAAAB90RVh0RGVzY3JpcHRpb24AQWxrYWxpbml0eSBjb2xvcm1hcDvlBVQAAAAwdEVYdEF1dGhvcgBNYXRwbG90bGliIHYzLjguMCwgaHR0cHM6Ly9tYXRwbG90bGliLm9yZ59z+E8AAAAydEVYdFNvZnR3YXJlAE1hdHBsb3RsaWIgdjMuOC4wLCBodHRwczovL21hdHBsb3RsaWIub3JnsdVnaAAAAgBJREFUeJzt1kFSwyAAhlHgFt7Q8f5rcdGkTkiR1Klu/vc2MZBAKzrz1Y+3915KKbXWcruWm7bfD+P1ufH6/cNT49/zV8cX67ZX71eHdSfz+/ttte++3ux7rL7P5FxO5zg5t6vn3S7Oj9fti83nx/H2cL4t35/s80+fb/V+u5/v7Xo/xtaH8e1+fP7qc8P4/X7Yb/gzOq1ft/fOn3vcd1jv8r7H9Uvpx2vfr5/H+8l8P80P743rbc/15T6P1+mrfcrP+1/+vMM6/TQ/rn8cf93zj38/p+cX+/TF/n/2/OS98zms1i3H+dl6L/uc+/Avz2/y3v3fDgDIIQAAIJAAAIBAAgAAAgkAAAgkAAAgkAAAgEACAAACCQAACCQAACCQAACAQAIAAAIJAAAIJAAAIJAAAIBAAgAAAgkAAAgkAAAgkAAAgEACAAACCQAACCQAACCQAACAQAIAAAIJAAAIJAAAIJAAAIBAAgAAAgkAAAgkAAAgkAAAgEACAAACCQAACCQAACCQAACAQAIAAAIJAAAIJAAAIJAAAIBAAgAAAgkAAAgkAAAgkAAAgEACAAACCQAACCQAACCQAACAQAIAAAIJAAAIJAAAIJAAAIBAAgAAAgkAAAgkAAAgkAAAgEACAAACCQAACCQAACCQAACAQAIAAAIJAAAIJAAAIJAAAIBAX7DM3DHjYvj4AAAAAElFTkSuQmCC\"></div><div style=\"vertical-align: middle; max-width: 514px; display: flex; justify-content: space-between;\"><div style=\"float: left;\"><div title=\"#6b1a69ff\" style=\"display: inline-block; width: 1em; height: 1em; margin: 0; vertical-align: middle; border: 1px solid #555; background-color: #6b1a69ff;\"></div> under</div><div style=\"margin: 0 auto; display: inline-block;\">bad <div title=\"#00000000\" style=\"display: inline-block; width: 1em; height: 1em; margin: 0; vertical-align: middle; border: 1px solid #555; background-color: #00000000;\"></div></div><div style=\"float: right;\">over <div title=\"#e68d40ff\" style=\"display: inline-block; width: 1em; height: 1em; margin: 0; vertical-align: middle; border: 1px solid #555; background-color: #e68d40ff;\"></div></div>"
      ],
      "text/plain": [
       "<matplotlib.colors.LinearSegmentedColormap at 0x7fa9d2716d60>"
      ]
     },
     "execution_count": 16,
     "metadata": {},
     "output_type": "execute_result"
    }
   ],
   "source": [
    "wocemaps.alkalinity"
   ]
  },
  {
   "cell_type": "code",
   "execution_count": 17,
   "id": "4d95c477-7381-49e5-ad93-93c0e880cccc",
   "metadata": {},
   "outputs": [
    {
     "data": {
      "image/png": "[encoded data removed]",
      "text/html": [
       "<div style=\"vertical-align: middle;\"><strong>cfc11</strong> </div><div class=\"cmap\"><img alt=\"cfc11 colormap\" title=\"cfc11\" style=\"border: 1px solid #555;\" src=\"data:image/png;base64,iVBORw0KGgoAAAANSUhEUgAAAgAAAABACAYAAABsv8+/AAAAFHRFWHRUaXRsZQBjZmMxMSBjb2xvcm1hcF3ixq4AAAAadEVYdERlc2NyaXB0aW9uAGNmYzExIGNvbG9ybWFwo71vSAAAADB0RVh0QXV0aG9yAE1hdHBsb3RsaWIgdjMuOC4wLCBodHRwczovL21hdHBsb3RsaWIub3Jnn3P4TwAAADJ0RVh0U29mdHdhcmUATWF0cGxvdGxpYiB2My44LjAsIGh0dHBzOi8vbWF0cGxvdGxpYi5vcmex1WdoAAACC0lEQVR4nO3WQU7DMBRF0Z+yXNbClhsG1KnyU6uhRUzeOZMQ17FNKNJd6utzrapaaqmqquXnsv1wGN/ul3Zfu/nb85Pn7sNLe26/zn2f2t+3dY7nefzcbJ9+3j5+ua1zGffb+P7+4zBeJ+e9On9/vo8n59vW6+f74/mnP3/zueWf9jk7f3x/ps+N61q76/i29vH79bZ+H2/PHT6frfNkv2f7TM/z5u+1rLcfxvX6c12vT8bHfft8Nn52vfH5+X2uv9v/5X368/V4nb5vmzfdfzJvPfx9aj/e9x2XyXm2fcd+0/O0c03fQztXf8+H91+T8f+eX5Pxd+dP3sPtPY3/awAgiAAAgEACAAACCQAACCQAACCQAACAQAIAAAIJAAAIJAAAIJAAAIBAAgAAAgkAAAgkAAAgkAAAgEACAAACCQAACCQAACCQAACAQAIAAAIJAAAIJAAAIJAAAIBAAgAAAgkAAAgkAAAgkAAAgEACAAACCQAACCQAACCQAACAQAIAAAIJAAAIJAAAIJAAAIBAAgAAAgkAAAgkAAAgkAAAgEACAAACCQAACCQAACCQAACAQAIAAAIJAAAIJAAAIJAAAIBAAgAAAgkAAAgkAAAgkAAAgEACAAACCQAACCQAACCQAACAQAIAAAIJAAAIJAAAIJAAAIBAAgAAAgkAAAgkAAAgkAAAgEACAAACfQPctBHCkrQicwAAAABJRU5ErkJggg==\"></div><div style=\"vertical-align: middle; max-width: 514px; display: flex; justify-content: space-between;\"><div style=\"float: left;\"><div title=\"#018d6cff\" style=\"display: inline-block; width: 1em; height: 1em; margin: 0; vertical-align: middle; border: 1px solid #555; background-color: #018d6cff;\"></div> under</div><div style=\"margin: 0 auto; display: inline-block;\">bad <div title=\"#00000000\" style=\"display: inline-block; width: 1em; height: 1em; margin: 0; vertical-align: middle; border: 1px solid #555; background-color: #00000000;\"></div></div><div style=\"float: right;\">over <div title=\"#ca006bff\" style=\"display: inline-block; width: 1em; height: 1em; margin: 0; vertical-align: middle; border: 1px solid #555; background-color: #ca006bff;\"></div></div>"
      ],
      "text/plain": [
       "<matplotlib.colors.LinearSegmentedColormap at 0x7fa9d2716a30>"
      ]
     },
     "execution_count": 17,
     "metadata": {},
     "output_type": "execute_result"
    }
   ],
   "source": [
    "wocemaps.cfc11 #CFC-11"
   ]
  },
  {
   "cell_type": "code",
   "execution_count": 18,
   "id": "c921bd95-52b8-4a86-878c-994535e21e37",
   "metadata": {},
   "outputs": [
    {
     "data": {
      "image/png": "[encoded data removed]",
      "text/html": [
       "<div style=\"vertical-align: middle;\"><strong>d14c</strong> </div><div class=\"cmap\"><img alt=\"d14c colormap\" title=\"d14c\" style=\"border: 1px solid #555;\" src=\"data:image/png;base64,iVBORw0KGgoAAAANSUhEUgAAAgAAAABACAYAAABsv8+/AAAAE3RFWHRUaXRsZQBkMTRjIGNvbG9ybWFwNXICYgAAABl0RVh0RGVzY3JpcHRpb24AZDE0YyBjb2xvcm1hcL7AkvoAAAAwdEVYdEF1dGhvcgBNYXRwbG90bGliIHYzLjguMCwgaHR0cHM6Ly9tYXRwbG90bGliLm9yZ59z+E8AAAAydEVYdFNvZnR3YXJlAE1hdHBsb3RsaWIgdjMuOC4wLCBodHRwczovL21hdHBsb3RsaWIub3JnsdVnaAAAAgRJREFUeJzt1kFShDAURdEfduTeXL84aOiqDnxF23byzpkgCSQRy6o76v1trapaxqiqqqVu17Hf3y41ar/f56t5fruvmp6f13+cv7xvTfN/fO6l6nR8dL9ns//x/eX0veP5ru67XNz3fP3+uy2Xztef+/H3nNd7en558fqvnq/puk5/h7WZv4/Xw/1o1unux/T+d+8dz1PXnm/X/fr8Y1u/1u2Hj9t13a7t+H4/zXfjV9fb56/v8/Gz/X+9z/x+na8z79t83+N758/d972P1+P4vO9+ac5z33ffrz3PdK72O0znmr/z4ftXM/7fz1cz/uzzzXfYvtP+/wgABBEAABBIAABAIAEAAIEEAAAEEgAAEEgAAEAgAQAAgQQAAAQSAAAQSAAAQCABAACBBAAABBIAABBIAABAIAEAAIEEAAAEEgAAEEgAAEAgAQAAgQQAAAQSAAAQSAAAQCABAACBBAAABBIAABBIAABAIAEAAIEEAAAEEgAAEEgAAEAgAQAAgQQAAAQSAAAQSAAAQCABAACBBAAABBIAABBIAABAIAEAAIEEAAAEEgAAEEgAAEAgAQAAgQQAAAQSAAAQSAAAQCABAACBBAAABBIAABBIAABAIAEAAIEEAAAEEgAAEEgAAEAgAQAAgQQAAAQSAAAQSAAAQCABAACBBAAABBIAABBIAABAoE9EKAXCy75bowAAAABJRU5ErkJggg==\"></div><div style=\"vertical-align: middle; max-width: 514px; display: flex; justify-content: space-between;\"><div style=\"float: left;\"><div title=\"#017532ff\" style=\"display: inline-block; width: 1em; height: 1em; margin: 0; vertical-align: middle; border: 1px solid #555; background-color: #017532ff;\"></div> under</div><div style=\"margin: 0 auto; display: inline-block;\">bad <div title=\"#00000000\" style=\"display: inline-block; width: 1em; height: 1em; margin: 0; vertical-align: middle; border: 1px solid #555; background-color: #00000000;\"></div></div><div style=\"float: right;\">over <div title=\"#ca006bff\" style=\"display: inline-block; width: 1em; height: 1em; margin: 0; vertical-align: middle; border: 1px solid #555; background-color: #ca006bff;\"></div></div>"
      ],
      "text/plain": [
       "<matplotlib.colors.LinearSegmentedColormap at 0x7fa9d1d89370>"
      ]
     },
     "execution_count": 18,
     "metadata": {},
     "output_type": "execute_result"
    }
   ],
   "source": [
    "wocemaps.d14c #Δ14C"
   ]
  },
  {
   "cell_type": "code",
   "execution_count": 19,
   "id": "9b0cbe30-78e5-4c83-84d0-d5b2e4fadb4e",
   "metadata": {},
   "outputs": [
    {
     "data": {
      "image/png": "[encoded data removed]",
      "text/html": [
       "<div style=\"vertical-align: middle;\"><strong>d3he</strong> </div><div class=\"cmap\"><img alt=\"d3he colormap\" title=\"d3he\" style=\"border: 1px solid #555;\" src=\"data:image/png;base64,iVBORw0KGgoAAAANSUhEUgAAAgAAAABACAYAAABsv8+/AAAAE3RFWHRUaXRsZQBkM2hlIGNvbG9ybWFwpvOjWQAAABl0RVh0RGVzY3JpcHRpb24AZDNoZSBjb2xvcm1hcC1BM8EAAAAwdEVYdEF1dGhvcgBNYXRwbG90bGliIHYzLjguMCwgaHR0cHM6Ly9tYXRwbG90bGliLm9yZ59z+E8AAAAydEVYdFNvZnR3YXJlAE1hdHBsb3RsaWIgdjMuOC4wLCBodHRwczovL21hdHBsb3RsaWIub3JnsdVnaAAAAghJREFUeJzt1kFagzAUhdEHO3Jvbh9xUPDTR1Oo1tE9Z4IhJAR18E/1/rZWVc3TVFVVc92u0z6+XWqqfbzP1+D5bVzVnu/7/5y//N5q8y8+91x19/40+s7B+4/r57vrjue7+t754nvv7z/+vc2Xzjc+98/v7Pv9eX7+5/3/eX7/u337T9subbzNr9N0//l9PFh3tm8d9r14ntN9f3mebbxu449ab9fbpT7WPj65f1j/+Pml339y/eF+PXvux+uXwfqlPd+/Yxndb9+59N9Dtef2943uD85xer627+Hv0d43+r5+ju1StX791Cfa+GT+8NyL9r08P3rfk/Pt/lwAQBwBAACBBAAABBIAABBIAABAIAEAAIEEAAAEEgAAEEgAAEAgAQAAgQQAAAQSAAAQSAAAQCABAACBBAAABBIAABBIAABAIAEAAIEEAAAEEgAAEEgAAEAgAQAAgQQAAAQSAAAQSAAAQCABAACBBAAABBIAABBIAABAIAEAAIEEAAAEEgAAEEgAAEAgAQAAgQQAAAQSAAAQSAAAQCABAACBBAAABBIAABBIAABAIAEAAIEEAAAEEgAAEEgAAEAgAQAAgQQAAAQSAAAQSAAAQCABAACBBAAABBIAABBIAABAIAEAAIEEAAAEEgAAEEgAAEAgAQAAgQQAAAQSAAAQSAAAQCABAACBBAAABPoEW0C+yVAWJLYAAAAASUVORK5CYII=\"></div><div style=\"vertical-align: middle; max-width: 514px; display: flex; justify-content: space-between;\"><div style=\"float: left;\"><div title=\"#017532ff\" style=\"display: inline-block; width: 1em; height: 1em; margin: 0; vertical-align: middle; border: 1px solid #555; background-color: #017532ff;\"></div> under</div><div style=\"margin: 0 auto; display: inline-block;\">bad <div title=\"#00000000\" style=\"display: inline-block; width: 1em; height: 1em; margin: 0; vertical-align: middle; border: 1px solid #555; background-color: #00000000;\"></div></div><div style=\"float: right;\">over <div title=\"#018ac0ff\" style=\"display: inline-block; width: 1em; height: 1em; margin: 0; vertical-align: middle; border: 1px solid #555; background-color: #018ac0ff;\"></div></div>"
      ],
      "text/plain": [
       "<matplotlib.colors.LinearSegmentedColormap at 0x7fa9d1d89040>"
      ]
     },
     "execution_count": 19,
     "metadata": {},
     "output_type": "execute_result"
    }
   ],
   "source": [
    "wocemaps.d3he #δ3He"
   ]
  },
  {
   "cell_type": "code",
   "execution_count": 20,
   "id": "33de2c62-e307-4c76-b009-064e87f4cc2e",
   "metadata": {},
   "outputs": [
    {
     "data": {
      "image/png": "[encoded data removed]",
      "text/html": [
       "<div style=\"vertical-align: middle;\"><strong>Depth</strong> </div><div class=\"cmap\"><img alt=\"Depth colormap\" title=\"Depth\" style=\"border: 1px solid #555;\" src=\"data:image/png;base64,iVBORw0KGgoAAAANSUhEUgAAAgAAAABACAYAAABsv8+/AAAAFHRFWHRUaXRsZQBEZXB0aCBjb2xvcm1hcNEZX1sAAAAadEVYdERlc2NyaXB0aW9uAERlcHRoIGNvbG9ybWFwL0b2vQAAADB0RVh0QXV0aG9yAE1hdHBsb3RsaWIgdjMuOC4wLCBodHRwczovL21hdHBsb3RsaWIub3Jnn3P4TwAAADJ0RVh0U29mdHdhcmUATWF0cGxvdGxpYiB2My44LjAsIGh0dHBzOi8vbWF0cGxvdGxpYi5vcmex1WdoAAACA0lEQVR4nO3WUVKrMACG0YS6CFfg/tfhlrTgQ8FOgylm6Nt/zguTkIToeO989fP9YymllHKppZRS6qXcTOVxvJuvT9fVaRsfnNuet9vfnvt83f3c5ru99Qf3bM+tl+Xx+baMze/el6F95dXfe9HPsf2+vpfbB77n5rlMD+Ov7rqDcee8/rr1e4ffmZ7uH//O9Of66zq+lm08/Tk/d+b365txZ37urT+4x/n7/e/e2/3msv77nte/q6V59ua77+eT+9v388n9vffz0P663uP+7M1v546t3+9v1l+P9i3N/rH15+9/e7/9Nz78XAbX/z7rqXPqy+/zv3MAgCACAAACCQAACCQAACCQAACAQAIAAAIJAAAIJAAAIJAAAIBAAgAAAgkAAAgkAAAgkAAAgEACAAACCQAACCQAACCQAACAQAIAAAIJAAAIJAAAIJAAAIBAAgAAAgkAAAgkAAAgkAAAgEACAAACCQAACCQAACCQAACAQAIAAAIJAAAIJAAAIJAAAIBAAgAAAgkAAAgkAAAgkAAAgEACAAACCQAACCQAACCQAACAQAIAAAIJAAAIJAAAIJAAAIBAAgAAAgkAAAgkAAAgkAAAgEACAAACCQAACCQAACCQAACAQAIAAAIJAAAIJAAAIJAAAIBAAgAAAgkAAAgkAAAgkAAAgEACAAACCQAACPQDgK8+gkZSOgIAAAAASUVORK5CYII=\"></div><div style=\"vertical-align: middle; max-width: 514px; display: flex; justify-content: space-between;\"><div style=\"float: left;\"><div title=\"#ca1927ff\" style=\"display: inline-block; width: 1em; height: 1em; margin: 0; vertical-align: middle; border: 1px solid #555; background-color: #ca1927ff;\"></div> under</div><div style=\"margin: 0 auto; display: inline-block;\">bad <div title=\"#00000000\" style=\"display: inline-block; width: 1em; height: 1em; margin: 0; vertical-align: middle; border: 1px solid #555; background-color: #00000000;\"></div></div><div style=\"float: right;\">over <div title=\"#69216dff\" style=\"display: inline-block; width: 1em; height: 1em; margin: 0; vertical-align: middle; border: 1px solid #555; background-color: #69216dff;\"></div></div>"
      ],
      "text/plain": [
       "<matplotlib.colors.LinearSegmentedColormap at 0x7fa9d2337640>"
      ]
     },
     "execution_count": 20,
     "metadata": {},
     "output_type": "execute_result"
    }
   ],
   "source": [
    "wocemaps.depth "
   ]
  },
  {
   "cell_type": "code",
   "execution_count": 21,
   "id": "3ff188c2-8335-413f-af9c-ff58c0baecc5",
   "metadata": {},
   "outputs": [
    {
     "data": {
      "image/png": "[encoded data removed]",
      "text/html": [
       "<div style=\"vertical-align: middle;\"><strong>Neutral Density</strong> </div><div class=\"cmap\"><img alt=\"Neutral Density colormap\" title=\"Neutral Density\" style=\"border: 1px solid #555;\" src=\"data:image/png;base64,iVBORw0KGgoAAAANSUhEUgAAAgAAAABACAYAAABsv8+/AAAAHnRFWHRUaXRsZQBOZXV0cmFsIERlbnNpdHkgY29sb3JtYXC0ATMZAAAAJHRFWHREZXNjcmlwdGlvbgBOZXV0cmFsIERlbnNpdHkgY29sb3JtYXB+vdp2AAAAMHRFWHRBdXRob3IATWF0cGxvdGxpYiB2My44LjAsIGh0dHBzOi8vbWF0cGxvdGxpYi5vcmefc/hPAAAAMnRFWHRTb2Z0d2FyZQBNYXRwbG90bGliIHYzLjguMCwgaHR0cHM6Ly9tYXRwbG90bGliLm9yZ7HVZ2gAAAH7SURBVHic7dZdbqswFEbRA2Pq/CfQOUEfwo9i4gJVqlb61npBGBs7qFd3D5/1MVdV1TBUVVWNj+sw1tP9Pr7e957fW3f+vnvrfu99y7X9TsPJeLOuN749/+k+N/c77HMyfv33js348/36B7J/1/He+u545z3b73rzOTrrD9+xGZ+X67Q8fvzj2++3a2f8fP7wdD9ffO9h/sVzdee357l6/mXGPD+u0zwt1+f7f/d8+qv9l+91+G698WZ987y3fpo787b10+t5nfXn5+68r3Puy/tWdcbX++b59p462b9e73uyfj9Hff+73nzudd763x0AEEQAAEAgAQAAgQQAAAQSAAAQSAAAQCABAACBBAAABBIAABBIAABAIAEAAIEEAAAEEgAAEEgAAEAgAQAAgQQAAAQSAAAQSAAAQCABAACBBAAABBIAABBIAABAIAEAAIEEAAAEEgAAEEgAAEAgAQAAgQQAAAQSAAAQSAAAQCABAACBBAAABBIAABBIAABAIAEAAIEEAAAEEgAAEEgAAEAgAQAAgQQAAAQSAAAQSAAAQCABAACBBAAABBIAABBIAABAIAEAAIEEAAAEEgAAEEgAAEAgAQAAgQQAAAQSAAAQSAAAQCABAACBBAAABBIAABBIAABAIAEAAIEEAAAEEgAAEEgAAEAgAQAAgb4AW3tQM+8hsEAAAAAASUVORK5CYII=\"></div><div style=\"vertical-align: middle; max-width: 514px; display: flex; justify-content: space-between;\"><div style=\"float: left;\"><div title=\"#cb0035ff\" style=\"display: inline-block; width: 1em; height: 1em; margin: 0; vertical-align: middle; border: 1px solid #555; background-color: #cb0035ff;\"></div> under</div><div style=\"margin: 0 auto; display: inline-block;\">bad <div title=\"#00000000\" style=\"display: inline-block; width: 1em; height: 1em; margin: 0; vertical-align: middle; border: 1px solid #555; background-color: #00000000;\"></div></div><div style=\"float: right;\">over <div title=\"#017532ff\" style=\"display: inline-block; width: 1em; height: 1em; margin: 0; vertical-align: middle; border: 1px solid #555; background-color: #017532ff;\"></div></div>"
      ],
      "text/plain": [
       "<matplotlib.colors.LinearSegmentedColormap at 0x7fa9d1fcd730>"
      ]
     },
     "execution_count": 21,
     "metadata": {},
     "output_type": "execute_result"
    }
   ],
   "source": [
    "wocemaps.ndensity "
   ]
  },
  {
   "cell_type": "code",
   "execution_count": 22,
   "id": "d3bf8065-6f4f-446c-ab87-1c60cf47a4d4",
   "metadata": {},
   "outputs": [
    {
     "data": {
      "image/png": "[encoded data removed]",
      "text/html": [
       "<div style=\"vertical-align: middle;\"><strong>Nitrate</strong> </div><div class=\"cmap\"><img alt=\"Nitrate colormap\" title=\"Nitrate\" style=\"border: 1px solid #555;\" src=\"data:image/png;base64,iVBORw0KGgoAAAANSUhEUgAAAgAAAABACAYAAABsv8+/AAAAFnRFWHRUaXRsZQBOaXRyYXRlIGNvbG9ybWFwUjuhGwAAABx0RVh0RGVzY3JpcHRpb24ATml0cmF0ZSBjb2xvcm1hcPUVEGIAAAAwdEVYdEF1dGhvcgBNYXRwbG90bGliIHYzLjguMCwgaHR0cHM6Ly9tYXRwbG90bGliLm9yZ59z+E8AAAAydEVYdFNvZnR3YXJlAE1hdHBsb3RsaWIgdjMuOC4wLCBodHRwczovL21hdHBsb3RsaWIub3JnsdVnaAAAAhRJREFUeJzt1ktynEAQRdGkN+eladfCAzU4Oos07VAoPHjnTBAF9aEnult9/NqrqrZtq6qqRz2vX5f1/va9m/Fq67Tx8Rw/vG9ffxv3fT4/37seP++XdW/e//b8x1vzx3W//V3D/sd4vd73fdbxR3t+rNvXe2/+vO7j8jv/+TzTvtWuez293p/jx/3zebXn297Gj+X2Yb2+b19v2Odcr4bx5bzD+W6/9/X92r/+2D+f1/O+2v3182X++V4N816f183zu3Ot89/b97hfv3+Yv/f363q8v99/x3G99rsM7/859/W6y++xD+t+Dufo6/bfaTl/P0c/f/11fNq32rxpv2X/+s/7D+se//8AgCACAAACCQAACCQAACCQAACAQAIAAAIJAAAIJAAAIJAAAIBAAgAAAgkAAAgkAAAgkAAAgEACAAACCQAACCQAACCQAACAQAIAAAIJAAAIJAAAIJAAAIBAAgAAAgkAAAgkAAAgkAAAgEACAAACCQAACCQAACCQAACAQAIAAAIJAAAIJAAAIJAAAIBAAgAAAgkAAAgkAAAgkAAAgEACAAACCQAACCQAACCQAACAQAIAAAIJAAAIJAAAIJAAAIBAAgAAAgkAAAgkAAAgkAAAgEACAAACCQAACCQAACCQAACAQAIAAAIJAAAIJAAAIJAAAIBAAgAAAgkAAAgkAAAgkAAAgEACAAACCQAACPQbC9YjuuUBEsoAAAAASUVORK5CYII=\"></div><div style=\"vertical-align: middle; max-width: 514px; display: flex; justify-content: space-between;\"><div style=\"float: left;\"><div title=\"#008748ff\" style=\"display: inline-block; width: 1em; height: 1em; margin: 0; vertical-align: middle; border: 1px solid #555; background-color: #008748ff;\"></div> under</div><div style=\"margin: 0 auto; display: inline-block;\">bad <div title=\"#00000000\" style=\"display: inline-block; width: 1em; height: 1em; margin: 0; vertical-align: middle; border: 1px solid #555; background-color: #00000000;\"></div></div><div style=\"float: right;\">over <div title=\"#80337bff\" style=\"display: inline-block; width: 1em; height: 1em; margin: 0; vertical-align: middle; border: 1px solid #555; background-color: #80337bff;\"></div></div>"
      ],
      "text/plain": [
       "<matplotlib.colors.LinearSegmentedColormap at 0x7fa9d2716640>"
      ]
     },
     "execution_count": 22,
     "metadata": {},
     "output_type": "execute_result"
    }
   ],
   "source": [
    "wocemaps.nitrate "
   ]
  },
  {
   "cell_type": "code",
   "execution_count": 23,
   "id": "ec67d06f-e1da-41d7-840f-fcba9e7c5d5d",
   "metadata": {},
   "outputs": [
    {
     "data": {
      "image/png": "[encoded data removed]",
      "text/html": [
       "<div style=\"vertical-align: middle;\"><strong>Oxygen</strong> </div><div class=\"cmap\"><img alt=\"Oxygen colormap\" title=\"Oxygen\" style=\"border: 1px solid #555;\" src=\"data:image/png;base64,iVBORw0KGgoAAAANSUhEUgAAAgAAAABACAYAAABsv8+/AAAAFXRFWHRUaXRsZQBPeHlnZW4gY29sb3JtYXALIiabAAAAG3RFWHREZXNjcmlwdGlvbgBPeHlnZW4gY29sb3JtYXBCtT5/AAAAMHRFWHRBdXRob3IATWF0cGxvdGxpYiB2My44LjAsIGh0dHBzOi8vbWF0cGxvdGxpYi5vcmefc/hPAAAAMnRFWHRTb2Z0d2FyZQBNYXRwbG90bGliIHYzLjguMCwgaHR0cHM6Ly9tYXRwbG90bGliLm9yZ7HVZ2gAAAIJSURBVHic7dZNboMwFEZRk4V1/zvpHjqoO0gI4hknoLaj75xJhME/JGp1l6/Pj95aa73d2t3y+LyVzzo+eW4591w/u946vvzufON+18579f3H7/N4/vx7mJ3/f9fZ1vub819eZ/idy/m/71e9P4b7er28ud9299v6fLnfyvx13Vbmv9t/2Lc+/70cjw/7LC/vD/tP32O2f9+PP663/fcLbPv34/llfNv3eN3r88s5zs6fjD/nT851fv7sXOfG22zfYfz495p9v3X+8Du/W286fm299/u8fu9x3u6xbXw/ff49Px98vW59/uxz83XLdTnw+Pda163vc23der3+twUAgggAAAgkAAAgkAAAgEACAAACCQAACCQAACCQAACAQAIAAAIJAAAIJAAAIJAAAIBAAgAAAgkAAAgkAAAgkAAAgEACAAACCQAACCQAACCQAACAQAIAAAIJAAAIJAAAIJAAAIBAAgAAAgkAAAgkAAAgkAAAgEACAAACCQAACCQAACCQAACAQAIAAAIJAAAIJAAAIJAAAIBAAgAAAgkAAAgkAAAgkAAAgEACAAACCQAACCQAACCQAACAQAIAAAIJAAAIJAAAIJAAAIBAAgAAAgkAAAgkAAAgkAAAgEACAAACCQAACCQAACCQAACAQAIAAAIJAAAIJAAAIJAAAIBAAgAAAgkAAAgkAAAg0A9GU2i6QJ4avgAAAABJRU5ErkJggg==\"></div><div style=\"vertical-align: middle; max-width: 514px; display: flex; justify-content: space-between;\"><div style=\"float: left;\"><div title=\"#fae73fff\" style=\"display: inline-block; width: 1em; height: 1em; margin: 0; vertical-align: middle; border: 1px solid #555; background-color: #fae73fff;\"></div> under</div><div style=\"margin: 0 auto; display: inline-block;\">bad <div title=\"#00000000\" style=\"display: inline-block; width: 1em; height: 1em; margin: 0; vertical-align: middle; border: 1px solid #555; background-color: #00000000;\"></div></div><div style=\"float: right;\">over <div title=\"#80337bff\" style=\"display: inline-block; width: 1em; height: 1em; margin: 0; vertical-align: middle; border: 1px solid #555; background-color: #80337bff;\"></div></div>"
      ],
      "text/plain": [
       "<matplotlib.colors.LinearSegmentedColormap at 0x7fa9d1fcdaf0>"
      ]
     },
     "execution_count": 23,
     "metadata": {},
     "output_type": "execute_result"
    }
   ],
   "source": [
    "wocemaps.oxygen"
   ]
  },
  {
   "cell_type": "code",
   "execution_count": 25,
   "id": "e56e7e49-36be-418e-bb1f-841839fe243c",
   "metadata": {},
   "outputs": [
    {
     "data": {
      "image/png": "[encoded data removed]",
      "text/html": [
       "<div style=\"vertical-align: middle;\"><strong>Phosphate</strong> </div><div class=\"cmap\"><img alt=\"Phosphate colormap\" title=\"Phosphate\" style=\"border: 1px solid #555;\" src=\"data:image/png;base64,iVBORw0KGgoAAAANSUhEUgAAAgAAAABACAYAAABsv8+/AAAAGHRFWHRUaXRsZQBQaG9zcGhhdGUgY29sb3JtYXAOyHnlAAAAHnRFWHREZXNjcmlwdGlvbgBQaG9zcGhhdGUgY29sb3JtYXBMU59uAAAAMHRFWHRBdXRob3IATWF0cGxvdGxpYiB2My44LjAsIGh0dHBzOi8vbWF0cGxvdGxpYi5vcmefc/hPAAAAMnRFWHRTb2Z0d2FyZQBNYXRwbG90bGliIHYzLjguMCwgaHR0cHM6Ly9tYXRwbG90bGliLm9yZ7HVZ2gAAAIBSURBVHic7dZBboMwAEVBk4vlhL1mbwF0EUyFwYEoVVvpz2xQbLCdUFVv+Py4z6WUUoahPCzXYXsdTubr+HpfHe7dX9c9WW+3f/cc9fJ8v/05T77Xi+f8tfu787fD8avv7+371/nb8XPN+YZ2/MV1+u/7+HdYn9t9jzfP23sPzfy8XKcyL9eHaS6b8XH9XOeb+3vjzTp1fGzH2/V7483649V9L64/7tZ5fJ7r+Dxt91s+/7v56a/2X36v0v5uvfHm+Wa+93z7XvbPT8f3dZ4/P3dnvc65L+9bSme8fm7mm7/b/v7leN+T57/PUZ5/rx8+d72v/ncDAIIIAAAIJAAAIJAAAIBAAgAAAgkAAAgkAAAgkAAAgEACAAACCQAACCQAACCQAACAQAIAAAIJAAAIJAAAIJAAAIBAAgAAAgkAAAgkAAAgkAAAgEACAAACCQAACCQAACCQAACAQAIAAAIJAAAIJAAAIJAAAIBAAgAAAgkAAAgkAAAgkAAAgEACAAACCQAACCQAACCQAACAQAIAAAIJAAAIJAAAIJAAAIBAAgAAAgkAAAgkAAAgkAAAgEACAAACCQAACCQAACCQAACAQAIAAAIJAAAIJAAAIJAAAIBAAgAAAgkAAAgkAAAgkAAAgEACAAACCQAACCQAACCQAACAQAIAAAIJAAAIJAAAINAXMzRrMwol2IsAAAAASUVORK5CYII=\"></div><div style=\"vertical-align: middle; max-width: 514px; display: flex; justify-content: space-between;\"><div style=\"float: left;\"><div title=\"#e68d40ff\" style=\"display: inline-block; width: 1em; height: 1em; margin: 0; vertical-align: middle; border: 1px solid #555; background-color: #e68d40ff;\"></div> under</div><div style=\"margin: 0 auto; display: inline-block;\">bad <div title=\"#00000000\" style=\"display: inline-block; width: 1em; height: 1em; margin: 0; vertical-align: middle; border: 1px solid #555; background-color: #00000000;\"></div></div><div style=\"float: right;\">over <div title=\"#017532ff\" style=\"display: inline-block; width: 1em; height: 1em; margin: 0; vertical-align: middle; border: 1px solid #555; background-color: #017532ff;\"></div></div>"
      ],
      "text/plain": [
       "<matplotlib.colors.LinearSegmentedColormap at 0x7fa9d1fcda60>"
      ]
     },
     "execution_count": 25,
     "metadata": {},
     "output_type": "execute_result"
    }
   ],
   "source": [
    "wocemaps.phosphate "
   ]
  },
  {
   "cell_type": "code",
   "execution_count": 26,
   "id": "ba2a66cd-f4c8-4f1e-a466-35b804549259",
   "metadata": {},
   "outputs": [
    {
     "data": {
      "image/png": "[encoded data removed]",
      "text/html": [
       "<div style=\"vertical-align: middle;\"><strong>Potential Density</strong> </div><div class=\"cmap\"><img alt=\"Potential Density colormap\" title=\"Potential Density\" style=\"border: 1px solid #555;\" src=\"data:image/png;base64,iVBORw0KGgoAAAANSUhEUgAAAgAAAABACAYAAABsv8+/AAAAIHRFWHRUaXRsZQBQb3RlbnRpYWwgRGVuc2l0eSBjb2xvcm1hcFJXSQUAAAAmdEVYdERlc2NyaXB0aW9uAFBvdGVudGlhbCBEZW5zaXR5IGNvbG9ybWFwaeSuDQAAADB0RVh0QXV0aG9yAE1hdHBsb3RsaWIgdjMuOC4wLCBodHRwczovL21hdHBsb3RsaWIub3Jnn3P4TwAAADJ0RVh0U29mdHdhcmUATWF0cGxvdGxpYiB2My44LjAsIGh0dHBzOi8vbWF0cGxvdGxpYi5vcmex1WdoAAABn0lEQVR4nO3WQW7CMBRAQdP7X6QX6LF6BMyCdkFQRJxFRfVmNgHLmE/C4l2+vz7nGGPMMcf9enf9ebFdf36/sz5Pfu7pnKNzvDh/95y/nWP/vh6d4+TntutvP8fa/+z6JnOs34+z/7Ojcxyd67K5/p73uD5e7R8n98/H9XHw/LPfs/o7lueai/s36+Po/rm4/+T5nv/iXP/k+X8MACBHAABAkAAAgCABAABBAgAAggQAAAQJAAAIEgAAECQAACBIAABAkAAAgCABAABBAgAAggQAAAQJAAAIEgAAECQAACBIAABAkAAAgCABAABBAgAAggQAAAQJAAAIEgAAECQAACBIAABAkAAAgCABAABBAgAAggQAAAQJAAAIEgAAECQAACBIAABAkAAAgCABAABBAgAAggQAAAQJAAAIEgAAECQAACBIAABAkAAAgCABAABBAgAAggQAAAQJAAAIEgAAECQAACBIAABAkAAAgCABAABBAgAAggQAAAQJAAAIEgAAECQAACBIAABAkAAAgCABAABBAgAAggQAAAQJAAAIugHgQDv1ZdRnWwAAAABJRU5ErkJggg==\"></div><div style=\"vertical-align: middle; max-width: 514px; display: flex; justify-content: space-between;\"><div style=\"float: left;\"><div title=\"#eeb6a9ff\" style=\"display: inline-block; width: 1em; height: 1em; margin: 0; vertical-align: middle; border: 1px solid #555; background-color: #eeb6a9ff;\"></div> under</div><div style=\"margin: 0 auto; display: inline-block;\">bad <div title=\"#00000000\" style=\"display: inline-block; width: 1em; height: 1em; margin: 0; vertical-align: middle; border: 1px solid #555; background-color: #00000000;\"></div></div><div style=\"float: right;\">over <div title=\"#009dcaff\" style=\"display: inline-block; width: 1em; height: 1em; margin: 0; vertical-align: middle; border: 1px solid #555; background-color: #009dcaff;\"></div></div>"
      ],
      "text/plain": [
       "<matplotlib.colors.LinearSegmentedColormap at 0x7fa9d1fcd220>"
      ]
     },
     "execution_count": 26,
     "metadata": {},
     "output_type": "execute_result"
    }
   ],
   "source": [
    "wocemaps.pdensity "
   ]
  },
  {
   "cell_type": "code",
   "execution_count": 27,
   "id": "68c1c0ad-c8c8-415e-8ff9-14b72d381dcc",
   "metadata": {},
   "outputs": [
    {
     "data": {
      "image/png": "[encoded data removed]",
      "text/html": [
       "<div style=\"vertical-align: middle;\"><strong>Potential Temperature</strong> </div><div class=\"cmap\"><img alt=\"Potential Temperature colormap\" title=\"Potential Temperature\" style=\"border: 1px solid #555;\" src=\"data:image/png;base64,iVBORw0KGgoAAAANSUhEUgAAAgAAAABACAYAAABsv8+/AAAAJHRFWHRUaXRsZQBQb3RlbnRpYWwgVGVtcGVyYXR1cmUgY29sb3JtYXD2lzkNAAAAKnRFWHREZXNjcmlwdGlvbgBQb3RlbnRpYWwgVGVtcGVyYXR1cmUgY29sb3JtYXDhbcOYAAAAMHRFWHRBdXRob3IATWF0cGxvdGxpYiB2My44LjAsIGh0dHBzOi8vbWF0cGxvdGxpYi5vcmefc/hPAAAAMnRFWHRTb2Z0d2FyZQBNYXRwbG90bGliIHYzLjguMCwgaHR0cHM6Ly9tYXRwbG90bGliLm9yZ7HVZ2gAAAH7SURBVHic7dZLcuowFEVRCWafUWVkVhpYJggENtA7a3X8dJH8SdWr2rX8/LbyX+3XWh7Oy6e/18n+T3+fPO9L9+3j8/qP0zo/l77uv9fbfeV2vu2bzft6eN5sfhqed32f5+9xnQ/r8Tsm3zd7j+u+YT7cZ9x/vz56/sW8TP7Ob54//B79fFku19bW62Q97KuzfTvn2/my9/zjffXuPT98n2Ffn5d1XpbLui3txXw9t67bsN727z2/TN5jWO9/3pvvsfe+rT2db7/vnS/D/Q4+bzqfPP/V8w5/7zI8b7uWg/N3z337fv17ysH7Tc71/3cFAIgjAAAgkAAAgEACAAACCQAACCQAACCQAACAQAIAAAIJAAAIJAAAIJAAAIBAAgAAAgkAAAgkAAAgkAAAgEACAAACCQAACCQAACCQAACAQAIAAAIJAAAIJAAAIJAAAIBAAgAAAgkAAAgkAAAgkAAAgEACAAACCQAACCQAACCQAACAQAIAAAIJAAAIJAAAIJAAAIBAAgAAAgkAAAgkAAAgkAAAgEACAAACCQAACCQAACCQAACAQAIAAAIJAAAIJAAAIJAAAIBAAgAAAgkAAAgkAAAgkAAAgEACAAACCQAACCQAACCQAACAQAIAAAIJAAAIJAAAIJAAAIBAAgAAAgkAAAgkAAAgkAAAgEB/tA06jXlQOLwAAAAASUVORK5CYII=\"></div><div style=\"vertical-align: middle; max-width: 514px; display: flex; justify-content: space-between;\"><div style=\"float: left;\"><div title=\"#018ac0ff\" style=\"display: inline-block; width: 1em; height: 1em; margin: 0; vertical-align: middle; border: 1px solid #555; background-color: #018ac0ff;\"></div> under</div><div style=\"margin: 0 auto; display: inline-block;\">bad <div title=\"#00000000\" style=\"display: inline-block; width: 1em; height: 1em; margin: 0; vertical-align: middle; border: 1px solid #555; background-color: #00000000;\"></div></div><div style=\"float: right;\">over <div title=\"#cb0035ff\" style=\"display: inline-block; width: 1em; height: 1em; margin: 0; vertical-align: middle; border: 1px solid #555; background-color: #cb0035ff;\"></div></div>"
      ],
      "text/plain": [
       "<matplotlib.colors.LinearSegmentedColormap at 0x7fa9d2514a90>"
      ]
     },
     "execution_count": 27,
     "metadata": {},
     "output_type": "execute_result"
    }
   ],
   "source": [
    "wocemaps.potentialtemp"
   ]
  },
  {
   "cell_type": "code",
   "execution_count": 28,
   "id": "5ab74433-538f-4c30-868d-428756a42c3e",
   "metadata": {},
   "outputs": [
    {
     "data": {
      "image/png": "[encoded data removed]",
      "text/html": [
       "<div style=\"vertical-align: middle;\"><strong>Salinity</strong> </div><div class=\"cmap\"><img alt=\"Salinity colormap\" title=\"Salinity\" style=\"border: 1px solid #555;\" src=\"data:image/png;base64,iVBORw0KGgoAAAANSUhEUgAAAgAAAABACAYAAABsv8+/AAAAF3RFWHRUaXRsZQBTYWxpbml0eSBjb2xvcm1hcI4WngsAAAAddEVYdERlc2NyaXB0aW9uAFNhbGluaXR5IGNvbG9ybWFwp2h5IgAAADB0RVh0QXV0aG9yAE1hdHBsb3RsaWIgdjMuOC4wLCBodHRwczovL21hdHBsb3RsaWIub3Jnn3P4TwAAADJ0RVh0U29mdHdhcmUATWF0cGxvdGxpYiB2My44LjAsIGh0dHBzOi8vbWF0cGxvdGxpYi5vcmex1WdoAAACCUlEQVR4nO3WQVbrIACGUTC7d1WurDhoaA0pibV19N87qQEC1Hd856vl86uVn2r/rOXheHl1vk7Wvzo/Oe9N+/bhZf3hYx1fSn/u83W7rmzHb+tm4/15OG82/jGcd7/P8T3u48Pz+D0m3292j/u6YXzYZ1y/f372/ZPxMvk9//H9p+9xe//657aUyzrejj/rZV0/WzfZ53bOybphfhnePztnd696fM70e6/n1XadL+t4af3zsn2ezLfd/PDeuN+6rp2e83ifdnZOOT7/1/cd9mm7+XH/7fj71j/+/ezWn5zTTs7/t/WT9/b/Dmf7lu38bL+33bMPP3vP43v0/1cBgCACAAACCQAACCQAACCQAACAQAIAAAIJAAAIJAAAIJAAAIBAAgAAAgkAAAgkAAAgkAAAgEACAAACCQAACCQAACCQAACAQAIAAAIJAAAIJAAAIJAAAIBAAgAAAgkAAAgkAAAgkAAAgEACAAACCQAACCQAACCQAACAQAIAAAIJAAAIJAAAIJAAAIBAAgAAAgkAAAgkAAAgkAAAgEACAAACCQAACCQAACCQAACAQAIAAAIJAAAIJAAAIJAAAIBAAgAAAgkAAAgkAAAgkAAAgEACAAACCQAACCQAACCQAACAQAIAAAIJAAAIJAAAIJAAAIBAAgAAAgkAAAgkAAAgkAAAgEACAAACCQAACPQNDL7zMV47Nc8AAAAASUVORK5CYII=\"></div><div style=\"vertical-align: middle; max-width: 514px; display: flex; justify-content: space-between;\"><div style=\"float: left;\"><div title=\"#018ac0ff\" style=\"display: inline-block; width: 1em; height: 1em; margin: 0; vertical-align: middle; border: 1px solid #555; background-color: #018ac0ff;\"></div> under</div><div style=\"margin: 0 auto; display: inline-block;\">bad <div title=\"#00000000\" style=\"display: inline-block; width: 1em; height: 1em; margin: 0; vertical-align: middle; border: 1px solid #555; background-color: #00000000;\"></div></div><div style=\"float: right;\">over <div title=\"#e68d40ff\" style=\"display: inline-block; width: 1em; height: 1em; margin: 0; vertical-align: middle; border: 1px solid #555; background-color: #e68d40ff;\"></div></div>"
      ],
      "text/plain": [
       "<matplotlib.colors.LinearSegmentedColormap at 0x7fa9dd7a27c0>"
      ]
     },
     "execution_count": 28,
     "metadata": {},
     "output_type": "execute_result"
    }
   ],
   "source": [
    "wocemaps.salinity"
   ]
  },
  {
   "cell_type": "code",
   "execution_count": 29,
   "id": "f316cd5d-421c-489f-80c2-50d5bfd59a5f",
   "metadata": {},
   "outputs": [
    {
     "data": {
      "image/png": "[encoded data removed]",
      "text/html": [
       "<div style=\"vertical-align: middle;\"><strong>Total co2</strong> </div><div class=\"cmap\"><img alt=\"Total co2 colormap\" title=\"Total co2\" style=\"border: 1px solid #555;\" src=\"data:image/png;base64,iVBORw0KGgoAAAANSUhEUgAAAgAAAABACAYAAABsv8+/AAAAGHRFWHRUaXRsZQBUb3RhbCBjbzIgY29sb3JtYXDkB0bzAAAAHnRFWHREZXNjcmlwdGlvbgBUb3RhbCBjbzIgY29sb3JtYXCmnKB4AAAAMHRFWHRBdXRob3IATWF0cGxvdGxpYiB2My44LjAsIGh0dHBzOi8vbWF0cGxvdGxpYi5vcmefc/hPAAAAMnRFWHRTb2Z0d2FyZQBNYXRwbG90bGliIHYzLjguMCwgaHR0cHM6Ly9tYXRwbG90bGliLm9yZ7HVZ2gAAAHPSURBVHic7dZRTuswAABBB27PqTgZ4YOmpX4vQGgFSDvzU+w4sVOkapfx9LyO95btcxn/nR+3Xl921t96fWe/Oz13m348/fFwmn8c23i7vlyvG9fz53V789t42m9v/mHa73Kej89xmZ/G83vsvN/eOS7rpvnpOfP6f8dH7/9kfux8z9+8//A5zvevp/3Xq/H+/MvB9TfOj1/a97z/275jbD9LR8fT/Prd50zj9dZzzee513OOvscvnf/L+977/7c955PrP/75N86x/a4CACECAACCBAAABAkAAAgSAAAQJAAAIEgAAECQAACAIAEAAEECAACCBAAABAkAAAgSAAAQJAAAIEgAAECQAACAIAEAAEECAACCBAAABAkAAAgSAAAQJAAAIEgAAECQAACAIAEAAEECAACCBAAABAkAAAgSAAAQJAAAIEgAAECQAACAIAEAAEECAACCBAAABAkAAAgSAAAQJAAAIEgAAECQAACAIAEAAEECAACCBAAABAkAAAgSAAAQJAAAIEgAAECQAACAIAEAAEECAACCBAAABAkAAAgSAAAQJAAAIEgAAECQAACAIAEAAEECAACCBAAABAkAAAgSAAAQJAAAIEgAAEDQK0eQnnjbwEiaAAAAAElFTkSuQmCC\"></div><div style=\"vertical-align: middle; max-width: 514px; display: flex; justify-content: space-between;\"><div style=\"float: left;\"><div title=\"#018ac0ff\" style=\"display: inline-block; width: 1em; height: 1em; margin: 0; vertical-align: middle; border: 1px solid #555; background-color: #018ac0ff;\"></div> under</div><div style=\"margin: 0 auto; display: inline-block;\">bad <div title=\"#00000000\" style=\"display: inline-block; width: 1em; height: 1em; margin: 0; vertical-align: middle; border: 1px solid #555; background-color: #00000000;\"></div></div><div style=\"float: right;\">over <div title=\"#fef00cff\" style=\"display: inline-block; width: 1em; height: 1em; margin: 0; vertical-align: middle; border: 1px solid #555; background-color: #fef00cff;\"></div></div>"
      ],
      "text/plain": [
       "<matplotlib.colors.LinearSegmentedColormap at 0x7fa9d2716550>"
      ]
     },
     "execution_count": 29,
     "metadata": {},
     "output_type": "execute_result"
    }
   ],
   "source": [
    "wocemaps.totalco2"
   ]
  },
  {
   "cell_type": "code",
   "execution_count": 30,
   "id": "30914cd0-cab8-4c62-b53b-f07a6114c836",
   "metadata": {},
   "outputs": [
    {
     "data": {
      "image/png": "[encoded data removed]",
      "text/html": [
       "<div style=\"vertical-align: middle;\"><strong>Tritium</strong> </div><div class=\"cmap\"><img alt=\"Tritium colormap\" title=\"Tritium\" style=\"border: 1px solid #555;\" src=\"data:image/png;base64,iVBORw0KGgoAAAANSUhEUgAAAgAAAABACAYAAABsv8+/AAAAFnRFWHRUaXRsZQBUcml0aXVtIGNvbG9ybWFwf8FmOAAAABx0RVh0RGVzY3JpcHRpb24AVHJpdGl1bSBjb2xvcm1hcNjv10EAAAAwdEVYdEF1dGhvcgBNYXRwbG90bGliIHYzLjguMCwgaHR0cHM6Ly9tYXRwbG90bGliLm9yZ59z+E8AAAAydEVYdFNvZnR3YXJlAE1hdHBsb3RsaWIgdjMuOC4wLCBodHRwczovL21hdHBsb3RsaWIub3JnsdVnaAAAAddJREFUeJzt1sFOKjEAQNHytv7/f/oDFBcymFTHUYPyknvOBkun0zIEc0/z+ekyxhhj/BuPfT09eP/lHKevnvNgfNqb/+m6g/FP173b916f84/P/+77u9fz+Ob3tzOe19G8/nG+vP785vVXOLfxwfx5G891flk3l/sezJ/Xcyz7/Nb823leXy+3+blcP//P+fmo/a/Pa6zPbe/9Zf0yv7d+Xnauu62fH1+3s/743Dv32zn3l/cdY+f9bbzM3+4zDvYfH+97sP7tHOPzz3Xnc2/Xbf+dAIAQAQAAQQIAAIIEAAAECQAACBIAABAkAAAgSAAAQJAAAIAgAQAAQQIAAIIEAAAECQAACBIAABAkAAAgSAAAQJAAAIAgAQAAQQIAAIIEAAAECQAACBIAABAkAAAgSAAAQJAAAIAgAQAAQQIAAIIEAAAECQAACBIAABAkAAAgSAAAQJAAAIAgAQAAQQIAAIIEAAAECQAACBIAABAkAAAgSAAAQJAAAIAgAQAAQQIAAIIEAAAECQAACBIAABAkAAAgSAAAQJAAAIAgAQAAQQIAAIIEAAAECQAACBIAABAkAAAgSAAAQJAAAIAgAQAAQQIAAIIEAAAECQAACBIAABAkAAAg6AUbSoUzlZ7wTAAAAABJRU5ErkJggg==\"></div><div style=\"vertical-align: middle; max-width: 514px; display: flex; justify-content: space-between;\"><div style=\"float: left;\"><div title=\"#fef00cff\" style=\"display: inline-block; width: 1em; height: 1em; margin: 0; vertical-align: middle; border: 1px solid #555; background-color: #fef00cff;\"></div> under</div><div style=\"margin: 0 auto; display: inline-block;\">bad <div title=\"#00000000\" style=\"display: inline-block; width: 1em; height: 1em; margin: 0; vertical-align: middle; border: 1px solid #555; background-color: #00000000;\"></div></div><div style=\"float: right;\">over <div title=\"#017532ff\" style=\"display: inline-block; width: 1em; height: 1em; margin: 0; vertical-align: middle; border: 1px solid #555; background-color: #017532ff;\"></div></div>"
      ],
      "text/plain": [
       "<matplotlib.colors.LinearSegmentedColormap at 0x7fa9d2716670>"
      ]
     },
     "execution_count": 30,
     "metadata": {},
     "output_type": "execute_result"
    }
   ],
   "source": [
    "wocemaps.tritium"
   ]
  },
  {
   "cell_type": "markdown",
   "id": "55b621f3-542c-4220-b2d3-d1420b7e9146",
   "metadata": {},
   "source": [
    "# <span style=\"color:red\"> Important notes\n",
    "- These colormaps cannot be reversed\n",
    "- The 'under' label is given to the lower value while the 'over' label is given to the higher value"
   ]
  }
 ],
 "metadata": {
  "kernelspec": {
   "display_name": "Python 3 (ipykernel)",
   "language": "python",
   "name": "python3"
  },
  "language_info": {
   "codemirror_mode": {
    "name": "ipython",
    "version": 3
   },
   "file_extension": ".py",
   "mimetype": "text/x-python",
   "name": "python",
   "nbconvert_exporter": "python",
   "pygments_lexer": "ipython3",
   "version": "3.9.18"
  }
 },
 "nbformat": 4,
 "nbformat_minor": 5
}
